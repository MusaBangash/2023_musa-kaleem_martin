{
 "cells": [
  {
   "cell_type": "code",
   "execution_count": 1,
   "id": "d7d9826f",
   "metadata": {},
   "outputs": [],
   "source": [
    "import sys\n",
    "import pandas as pd \n",
    "import numpy as np\n",
    "import matplotlib.pyplot as plt\n",
    "import seaborn as sns\n",
    "import os\n",
    "import glob\n",
    "import plotly.express as px\n",
    "from scipy.fft import fft\n",
    "%matplotlib inline"
   ]
  },
  {
   "cell_type": "code",
   "execution_count": null,
   "id": "d7a34ac4",
   "metadata": {},
   "outputs": [],
   "source": []
  },
  {
   "cell_type": "markdown",
   "id": "1b8fb3f7",
   "metadata": {},
   "source": [
    "## Path"
   ]
  },
  {
   "cell_type": "code",
   "execution_count": 2,
   "id": "ba42b46a",
   "metadata": {},
   "outputs": [],
   "source": [
    "parent_dir = os.path.abspath(r'D:')\n",
    "concatenated_yaws_dir = os.path.join(parent_dir, 'processed_data', 'Concatenated_Yaws')\n",
    "#inputoutput_dir = os.path.join(parent_dir, 'processed_data', 'InputOutput')\n",
    "output_dir = os.path.join(parent_dir, 'processed_data', 'ModelingData')\n"
   ]
  },
  {
   "cell_type": "code",
   "execution_count": null,
   "id": "dbb7bb3d",
   "metadata": {},
   "outputs": [],
   "source": []
  },
  {
   "cell_type": "markdown",
   "id": "5c68ebc2",
   "metadata": {},
   "source": [
    "## New features "
   ]
  },
  {
   "cell_type": "code",
   "execution_count": 3,
   "id": "af49c511",
   "metadata": {},
   "outputs": [
    {
     "name": "stdout",
     "output_type": "stream",
     "text": [
      "Turbulence feature added to Yaw01_combined_data.csv\n",
      "Turbulence feature added to Yaw02_combined_data.csv\n",
      "Turbulence feature added to Yaw03_combined_data.csv\n",
      "Turbulence feature added to Yaw04_combined_data.csv\n",
      "Turbulence feature added to Yaw05_combined_data.csv\n",
      "Turbulence feature added to Yaw-11_combined_data.csv\n",
      "Turbulence feature added to Yaw-12_combined_data.csv\n",
      "Turbulence feature added to Yaw-13_combined_data.csv\n",
      "Turbulence feature added to Yaw-14_combined_data.csv\n",
      "Turbulence feature added to Yaw-15_combined_data.csv\n",
      "Turbulence feature added to Yaw-16_combined_data.csv\n",
      "Turbulence feature added to Yaw-17_combined_data.csv\n",
      "Turbulence feature added to Yaw-18_combined_data.csv\n",
      "Turbulence feature added to Yaw-19_combined_data.csv\n",
      "Turbulence feature added to Yaw-20_combined_data.csv\n",
      "Turbulence feature added to Yaw06_combined_data.csv\n",
      "Turbulence feature added to Yaw07_combined_data.csv\n",
      "Turbulence feature added to Yaw08_combined_data.csv\n",
      "Turbulence feature added to Yaw09_combined_data.csv\n",
      "Turbulence feature added to Yaw10_combined_data.csv\n",
      "Turbulence feature added to Yaw11_combined_data.csv\n",
      "Turbulence feature added to Yaw-06_combined_data.csv\n",
      "Turbulence feature added to Yaw-07_combined_data.csv\n",
      "Turbulence feature added to Yaw-08_combined_data.csv\n",
      "Turbulence feature added to Yaw-09_combined_data.csv\n",
      "Turbulence feature added to Yaw-10_combined_data.csv\n",
      "Turbulence feature added to Yaw12_combined_data.csv\n",
      "Turbulence feature added to Yaw13_combined_data.csv\n",
      "Turbulence feature added to Yaw14_combined_data.csv\n",
      "Turbulence feature added to Yaw15_combined_data.csv\n",
      "Turbulence feature added to Yaw16_combined_data.csv\n",
      "Turbulence feature added to Yaw17_combined_data.csv\n",
      "Turbulence feature added to Yaw18_combined_data.csv\n",
      "Turbulence feature added to Yaw19_combined_data.csv\n",
      "Turbulence feature added to Yaw20_combined_data.csv\n",
      "Turbulence feature added to Yaw-00_combined_data.csv\n",
      "Turbulence feature added to Yaw-01_combined_data.csv\n",
      "Turbulence feature added to Yaw-02_combined_data.csv\n",
      "Turbulence feature added to Yaw-03_combined_data.csv\n",
      "Turbulence feature added to Yaw-04_combined_data.csv\n",
      "Turbulence feature added to Yaw-05_combined_data.csv\n"
     ]
    }
   ],
   "source": [
    "concatenated_yaws_dir = os.path.join(parent_dir, 'processed_data', 'Concatenated_Yaws')\n",
    "\n",
    "all_files = [file for file in os.listdir(concatenated_yaws_dir) if file.endswith('.csv')]\n",
    "\n",
    "if len(all_files) == 0:\n",
    "    print(\"No CSV files found in the directory.\")\n",
    "else:\n",
    "    for file in all_files:\n",
    "        file_path = os.path.join(concatenated_yaws_dir, file)\n",
    "\n",
    "        df = pd.read_csv(file_path)\n",
    "\n",
    "        if 'Turbulence' in df.columns:\n",
    "            print(\"Turbulence feature already added in\", file)\n",
    "        else:\n",
    "            df['Turbulence'] = df['wind_speed_std'] / df['wind_speed_mean']\n",
    "            df.to_csv(file_path, index=False)\n",
    "            print(\"Turbulence feature added to\", file)\n"
   ]
  },
  {
   "cell_type": "code",
   "execution_count": null,
   "id": "ced2bd7a",
   "metadata": {},
   "outputs": [],
   "source": []
  },
  {
   "cell_type": "markdown",
   "id": "0cb77d51",
   "metadata": {},
   "source": [
    "## List of all Yaws"
   ]
  },
  {
   "cell_type": "code",
   "execution_count": 4,
   "id": "69095e2f",
   "metadata": {},
   "outputs": [
    {
     "name": "stdout",
     "output_type": "stream",
     "text": [
      "      acceleration_CROSS_max  acceleration_CROSS_mean  \\\n",
      "0                   0.082824                -0.000035   \n",
      "1                   0.079123                -0.000025   \n",
      "2                   0.083427                -0.000021   \n",
      "3                   0.071739                -0.000006   \n",
      "4                   0.090891                 0.000002   \n",
      "...                      ...                      ...   \n",
      "1887                1.020887                 0.000085   \n",
      "1888                1.214840                -0.000119   \n",
      "1889                1.198685                 0.000035   \n",
      "1890                1.464307                 0.000241   \n",
      "1891                1.276531                -0.000316   \n",
      "\n",
      "      acceleration_CROSS_median  acceleration_CROSS_min  \\\n",
      "0                     -0.000076               -0.081768   \n",
      "1                      0.000207               -0.081799   \n",
      "2                      0.000065               -0.088581   \n",
      "3                      0.000142               -0.073519   \n",
      "4                      0.000099               -0.086342   \n",
      "...                         ...                     ...   \n",
      "1887                  -0.000521               -1.110528   \n",
      "1888                  -0.005317               -1.232988   \n",
      "1889                  -0.002547               -1.146992   \n",
      "1890                  -0.002151               -1.212034   \n",
      "1891                  -0.005465               -1.272542   \n",
      "\n",
      "      acceleration_CROSS_q1  acceleration_CROSS_q3  acceleration_CROSS_std  \\\n",
      "0                 -0.009279               0.009181                0.018921   \n",
      "1                 -0.006320               0.006222                0.016439   \n",
      "2                 -0.010276               0.009928                0.022402   \n",
      "3                 -0.011762               0.011707                0.019477   \n",
      "4                 -0.009947               0.009715                0.019172   \n",
      "...                     ...                    ...                     ...   \n",
      "1887              -0.181884               0.176227                0.273099   \n",
      "1888              -0.271643               0.270756                0.391789   \n",
      "1889              -0.185459               0.183511                0.284523   \n",
      "1890              -0.227700               0.229301                0.335807   \n",
      "1891              -0.303735               0.306128                0.425835   \n",
      "\n",
      "      acceleration_THRUST_max  acceleration_THRUST_mean  \\\n",
      "0                    0.100934                  0.000057   \n",
      "1                    0.098308                  0.000017   \n",
      "2                    0.115822                  0.000042   \n",
      "3                    0.111300                  0.000037   \n",
      "4                    0.107313                  0.000012   \n",
      "...                       ...                       ...   \n",
      "1887                 1.846888                  0.000131   \n",
      "1888                 1.565334                 -0.000075   \n",
      "1889                 1.837412                  0.000109   \n",
      "1890                 2.121892                  0.000652   \n",
      "1891                 1.657107                  0.000210   \n",
      "\n",
      "      acceleration_THRUST_median  ...  wind_speed_q3  wind_speed_std  \\\n",
      "0                       0.000569  ...       4.232879        0.282605   \n",
      "1                      -0.000257  ...       4.210862        0.303820   \n",
      "2                       0.000195  ...       4.701898        0.302932   \n",
      "3                       0.000490  ...       5.273309        0.342388   \n",
      "4                      -0.000289  ...       5.265337        0.335688   \n",
      "...                          ...  ...            ...             ...   \n",
      "1887                   -0.001583  ...      27.084808        3.803162   \n",
      "1888                   -0.010769  ...      27.113491        3.836852   \n",
      "1889                   -0.007274  ...      27.639956        3.883124   \n",
      "1890                   -0.000948  ...      27.559479        4.011318   \n",
      "1891                   -0.005512  ...      27.660250        3.914972   \n",
      "\n",
      "      yaw_error_max  yaw_error_mean  yaw_error_median  yaw_error_min  \\\n",
      "0          6.880281       -0.755502         -0.805333      -7.872908   \n",
      "1          6.776547       -1.220241         -1.466198      -8.761596   \n",
      "2          6.172311       -0.981852         -0.916556      -8.718723   \n",
      "3          7.935579       -0.945350         -0.834090     -11.539514   \n",
      "4          6.220474       -0.846317         -0.698974      -8.456399   \n",
      "...             ...             ...               ...            ...   \n",
      "1887      29.649500        5.009448          4.969997     -13.231090   \n",
      "1888      22.984365        4.715598          4.720414     -15.597765   \n",
      "1889      29.622591        5.009042          4.970115     -13.307023   \n",
      "1890      25.386444        5.057067          5.128855     -14.502006   \n",
      "1891      23.086872        4.718023          4.724151     -15.644241   \n",
      "\n",
      "      yaw_error_q1  yaw_error_q3  yaw_error_std  Turbulence  \n",
      "0        -2.321008      0.814593       2.262013    0.070120  \n",
      "1        -2.809187      0.123484       2.272140    0.075750  \n",
      "2        -2.481294      0.565355       2.324396    0.067105  \n",
      "3        -2.215587      0.530818       2.386967    0.067784  \n",
      "4        -2.437557      0.815514       2.266950    0.066837  \n",
      "...            ...           ...            ...         ...  \n",
      "1887      1.529729      8.475124       5.271263    0.156524  \n",
      "1888      1.389836      8.038063       5.138942    0.156295  \n",
      "1889      1.530192      8.480392       5.270825    0.156568  \n",
      "1890      1.687405      8.382286       5.184499    0.160584  \n",
      "1891      1.393870      8.042168       5.142021    0.156284  \n",
      "\n",
      "[77572 rows x 141 columns]\n"
     ]
    }
   ],
   "source": [
    "\n",
    "concatenated_yaws_dir = os.path.join(parent_dir, 'processed_data', 'Concatenated_Yaws')\n",
    "\n",
    "os.chdir(concatenated_yaws_dir) \n",
    "csv_files = glob.glob('*.csv')\n",
    "\n",
    "concatenated_dataframes = []  \n",
    "\n",
    "for csv_file in csv_files:\n",
    "    df = pd.read_csv(csv_file)\n",
    "    concatenated_dataframes.append(df)\n",
    "\n",
    "concatenated_df = pd.concat(concatenated_dataframes)\n",
    "\n",
    "print(concatenated_df)\n"
   ]
  },
  {
   "cell_type": "code",
   "execution_count": null,
   "id": "eafce886",
   "metadata": {},
   "outputs": [],
   "source": []
  },
  {
   "cell_type": "markdown",
   "id": "1ab3c463",
   "metadata": {},
   "source": [
    "## Preparing dataset for modeling"
   ]
  },
  {
   "cell_type": "code",
   "execution_count": 5,
   "id": "683ac849",
   "metadata": {},
   "outputs": [
    {
     "name": "stdout",
     "output_type": "stream",
     "text": [
      "Big Training Dataset Shape: (62074, 141)\n",
      "Big Testing Dataset Shape: (15498, 141)\n"
     ]
    }
   ],
   "source": [
    "\n",
    "big_train_df = pd.DataFrame()\n",
    "big_test_df = pd.DataFrame()\n",
    "\n",
    "for df in concatenated_dataframes:\n",
    "    train_df = df.sample(frac=0.8, random_state=42)\n",
    "    test_df = df.drop(train_df.index)\n",
    "\n",
    "    big_train_df = pd.concat([big_train_df, train_df])\n",
    "    big_test_df = pd.concat([big_test_df, test_df])\n",
    "\n",
    "print(\"Big Training Dataset Shape:\", big_train_df.shape)\n",
    "print(\"Big Testing Dataset Shape:\", big_test_df.shape)\n"
   ]
  },
  {
   "cell_type": "code",
   "execution_count": null,
   "id": "d9a5e901",
   "metadata": {},
   "outputs": [],
   "source": []
  },
  {
   "cell_type": "markdown",
   "id": "d02b8639",
   "metadata": {},
   "source": [
    "## Exporting required dataset"
   ]
  },
  {
   "cell_type": "code",
   "execution_count": 6,
   "id": "ebaa792f",
   "metadata": {},
   "outputs": [],
   "source": [
    "\n",
    "os.makedirs(output_dir, exist_ok=True)\n",
    "\n",
    "train_output_path = os.path.join(output_dir, 'big_train.parquet')\n",
    "test_output_path = os.path.join(output_dir, 'big_test.parquet')\n",
    "\n",
    "big_train_df.to_parquet(train_output_path)\n",
    "big_test_df.to_parquet(test_output_path)\n"
   ]
  },
  {
   "cell_type": "code",
   "execution_count": null,
   "id": "7cd2f183",
   "metadata": {},
   "outputs": [],
   "source": []
  },
  {
   "cell_type": "code",
   "execution_count": null,
   "id": "20c57f91",
   "metadata": {},
   "outputs": [],
   "source": []
  },
  {
   "cell_type": "code",
   "execution_count": null,
   "id": "2108731d",
   "metadata": {},
   "outputs": [],
   "source": []
  },
  {
   "cell_type": "code",
   "execution_count": null,
   "id": "1bc164be",
   "metadata": {},
   "outputs": [],
   "source": []
  },
  {
   "cell_type": "code",
   "execution_count": null,
   "id": "335a740c",
   "metadata": {},
   "outputs": [],
   "source": []
  }
 ],
 "metadata": {
  "kernelspec": {
   "display_name": "Python 3 (ipykernel)",
   "language": "python",
   "name": "python3"
  },
  "language_info": {
   "codemirror_mode": {
    "name": "ipython",
    "version": 3
   },
   "file_extension": ".py",
   "mimetype": "text/x-python",
   "name": "python",
   "nbconvert_exporter": "python",
   "pygments_lexer": "ipython3",
   "version": "3.9.13"
  }
 },
 "nbformat": 4,
 "nbformat_minor": 5
}
