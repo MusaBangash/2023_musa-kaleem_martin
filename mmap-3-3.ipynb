{
 "cells": [
  {
   "cell_type": "code",
   "execution_count": 1,
   "id": "cefb3cc7",
   "metadata": {},
   "outputs": [],
   "source": [
    "import os\n",
    "import numpy as np\n",
    "import pandas as pd\n",
    "import polars as pl"
   ]
  },
  {
   "cell_type": "code",
   "execution_count": 2,
   "id": "02b18939",
   "metadata": {},
   "outputs": [],
   "source": [
    "parent_dir = os.path.abspath(r'../data/')\n",
    "output_dir = os.path.join(parent_dir, 'processed_data', 'RawData_ModelingData_1')"
   ]
  },
  {
   "cell_type": "code",
   "execution_count": null,
   "id": "671774e0",
   "metadata": {},
   "outputs": [],
   "source": [
    "'''import os\n",
    "\n",
    "parent_dir_param = None\n",
    "\n",
    "if parent_dir_param is None:\n",
    "    parent_dir = os.path.abspath(r'../data/') \n",
    "else:\n",
    "    parent_dir = os.path.abspath(parent_dir_param)\n",
    "\n",
    "output_dir_param = None\n",
    "\n",
    "if output_dir_param is None:\n",
    "    output_dir = os.path.join(parent_dir, 'processed_data', 'RawData_ModelingData_1')\n",
    "else:\n",
    "    output_dir = os.path.abspath(output_dir_param)'''\n"
   ]
  },
  {
   "cell_type": "code",
   "execution_count": 3,
   "id": "1f8c2186",
   "metadata": {},
   "outputs": [],
   "source": [
    "\n",
    "parquet_files = [file for file in os.listdir(output_dir) if file.endswith('.parquet')]\n",
    "\n",
    "dataframes = {}\n",
    "for parquet_file in parquet_files:\n",
    "    parquet_file_path = os.path.join(output_dir, parquet_file)\n",
    "    dataframe_name = os.path.splitext(parquet_file)[0] \n",
    "    dataframes[dataframe_name] = pd.read_parquet(parquet_file_path)\n",
    "\n",
    "big_raw_train_df = dataframes['big_raw_train_df']\n",
    "big_raw_test_df = dataframes['big_raw_test_df']\n",
    "\n"
   ]
  },
  {
   "cell_type": "code",
   "execution_count": null,
   "id": "5384ec6b",
   "metadata": {},
   "outputs": [],
   "source": [
    "\n",
    "import pandas as pd\n",
    "from sklearn.preprocessing import MinMaxScaler\n",
    "from sklearn.metrics import mean_absolute_error, mean_squared_error, r2_score\n",
    "from catboost import CatBoostRegressor\n",
    "\n",
    "\n",
    "input_columns = ['Pitch_Angle_B1', 'Pitch_Angle_B2', 'Pitch_Angle_B3', 'Rotorposition',\n",
    "                 'Generator_Speed', 'Rotor_Speed', 'Generator_Torque', 'Power', 'YAW_Bearing_THRUST']\n",
    "target_column = 'Wind_Speed'\n",
    "\n",
    "input_features_train = big_raw_train_df[input_columns].values\n",
    "target_train = big_raw_train_df[target_column].values\n",
    "\n",
    "input_features_test = big_raw_test_df[input_columns].values\n",
    "target_test = big_raw_test_df[target_column].values\n",
    "\n",
    "scaler = MinMaxScaler()\n",
    "input_features_train = scaler.fit_transform(input_features_train)\n",
    "input_features_test = scaler.transform(input_features_test)\n",
    "\n",
    "window_size = 100\n",
    "future_steps = 15 \n",
    "\n",
    "models = []\n",
    "\n",
    "for step in range(future_steps):\n",
    "    X_train = []\n",
    "    y_train = []\n",
    "\n",
    "    for i in range(0, len(input_features_train) - window_size - step):\n",
    "        X_train.append(input_features_train[i : i + window_size].flatten())\n",
    "        y_train.append(target_train[i + window_size + step])\n",
    "\n",
    "    X_train = np.array(X_train)\n",
    "    y_train = np.array(y_train)\n",
    "\n",
    "    model = CatBoostRegressor(iterations=1000, learning_rate=0.1, depth=6)\n",
    "    model.fit(X_train, y_train)\n",
    "    \n",
    "    models.append(model)\n",
    "\n",
    "y_preds = []\n",
    "\n",
    "for step in range(future_steps):\n",
    "    X_test = []\n",
    "\n",
    "    for i in range(0, len(input_features_test) - window_size - step):\n",
    "        X_test.append(input_features_test[i : i + window_size].flatten())\n",
    "\n",
    "    X_test = np.array(X_test)\n",
    "\n",
    "    y_pred = models[step].predict(X_test)\n",
    "    y_preds.append(y_pred)\n",
    "\n",
    "for step in range(future_steps):\n",
    "    mae = mean_absolute_error(target_test[window_size + step:], y_preds[step])\n",
    "    mse = mean_squared_error(target_test[window_size + step:], y_preds[step])\n",
    "    rmse = np.sqrt(mse)\n",
    "    r2 = r2_score(target_test[window_size + step:], y_preds[step])\n",
    "\n",
    "    print(f\"Step {step + 1}:\")\n",
    "    print(f\"Mean Absolute Error (MAE): {mae}\")\n",
    "    print(f\"Mean Squared Error (MSE): {mse}\")\n",
    "    print(f\"Root Mean Squared Error (RMSE): {rmse}\")\n",
    "    print(f\"R-squared (R2) Score: {r2}\")"
   ]
  }
 ],
 "metadata": {
  "kernelspec": {
   "display_name": "Python 3 (ipykernel)",
   "language": "python",
   "name": "python3"
  },
  "language_info": {
   "codemirror_mode": {
    "name": "ipython",
    "version": 3
   },
   "file_extension": ".py",
   "mimetype": "text/x-python",
   "name": "python",
   "nbconvert_exporter": "python",
   "pygments_lexer": "ipython3",
   "version": "3.11.1"
  }
 },
 "nbformat": 4,
 "nbformat_minor": 5
}
