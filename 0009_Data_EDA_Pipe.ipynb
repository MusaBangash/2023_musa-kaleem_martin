{
 "cells": [
  {
   "cell_type": "code",
   "execution_count": null,
   "id": "0c2d68a9",
   "metadata": {},
   "outputs": [],
   "source": []
  },
  {
   "cell_type": "code",
   "execution_count": 3,
   "id": "2ca42552",
   "metadata": {},
   "outputs": [],
   "source": [
    "import sys\n",
    "import pandas as pd \n",
    "import numpy as np\n",
    "import matplotlib.pyplot as plt\n",
    "import seaborn as sns\n",
    "import os\n",
    "import glob\n",
    "import plotly.express as px\n",
    "from scipy.fft import fft\n",
    "import klib\n",
    "%matplotlib inline"
   ]
  },
  {
   "cell_type": "code",
   "execution_count": 4,
   "id": "2f17e4ee",
   "metadata": {},
   "outputs": [],
   "source": [
    "#pip install klib"
   ]
  },
  {
   "cell_type": "code",
   "execution_count": null,
   "id": "257b71b1",
   "metadata": {},
   "outputs": [],
   "source": []
  },
  {
   "cell_type": "code",
   "execution_count": 5,
   "id": "f9fb1a9c",
   "metadata": {},
   "outputs": [],
   "source": [
    "#parent_dir = os.path.abspath(r'D:')\n",
    "\n",
    "\n",
    "parent_dir = os.path.abspath(r'../data/')\n",
    "\n",
    "raw_data_dir = os.path.join(parent_dir, 'raw')\n",
    "processed_data_dir = os.path.join(parent_dir, 'processed_data')\n",
    "concatenated_yaws_dir = os.path.join(parent_dir, 'Concatenated_Yaws')"
   ]
  },
  {
   "cell_type": "code",
   "execution_count": null,
   "id": "76bd34e2",
   "metadata": {},
   "outputs": [],
   "source": []
  },
  {
   "cell_type": "code",
   "execution_count": null,
   "id": "f9947d7d",
   "metadata": {},
   "outputs": [],
   "source": []
  },
  {
   "cell_type": "code",
   "execution_count": null,
   "id": "5f984202",
   "metadata": {},
   "outputs": [],
   "source": []
  },
  {
   "cell_type": "code",
   "execution_count": null,
   "id": "297c1332",
   "metadata": {},
   "outputs": [],
   "source": [
    "import os\n",
    "import pandas as pd\n",
    "\n",
    "output_dir = os.path.join(parent_dir, 'processed_data', 'ModelingData')\n",
    "\n",
    "file_list = os.listdir(output_dir)\n",
    "\n",
    "for file_name in file_list:\n",
    "    file_path = os.path.join(output_dir, file_name)\n",
    "    if os.path.isfile(file_path):\n",
    "        if file_name.lower().endswith(('.parquet', '.csv')):\n",
    "            if file_name.lower().endswith('.parquet'):\n",
    "                big_train_df = pd.read_parquet(file_path)\n",
    "            elif file_name.lower().endswith('.csv'):\n",
    "                big_train_df = pd.read_csv(file_path)\n",
    "            print(f\"File: {file_name} | Shape: {big_train_df.shape}\")\n"
   ]
  },
  {
   "cell_type": "markdown",
   "id": "bdba0a1d",
   "metadata": {},
   "source": [
    "import os\n",
    "import pandas as pd\n",
    "\n",
    "output_dir = os.path.join(parent_dir, 'processed_data', 'ModelingData')\n",
    "\n",
    "file_list = os.listdir(output_dir)\n",
    "\n",
    "for file_name in file_list:\n",
    "    file_path = os.path.join(output_dir, file_name)\n",
    "    if os.path.isfile(file_path):\n",
    "        big_train_df = pd.read_parquet(file_path)\n",
    "        big_test_df=  pd.read_parquet(file_path)\n",
    "        print(f\"File: {file_name} | Shape: {big_train_df.shape}\")"
   ]
  },
  {
   "cell_type": "code",
   "execution_count": null,
   "id": "9a909831",
   "metadata": {},
   "outputs": [],
   "source": []
  },
  {
   "cell_type": "code",
   "execution_count": null,
   "id": "6c62a388",
   "metadata": {},
   "outputs": [],
   "source": [
    "big_train_df.hist(figsize=(50,35)) "
   ]
  },
  {
   "cell_type": "code",
   "execution_count": null,
   "id": "568b6349",
   "metadata": {},
   "outputs": [],
   "source": []
  },
  {
   "cell_type": "code",
   "execution_count": null,
   "id": "2a44de98",
   "metadata": {},
   "outputs": [],
   "source": [
    "klib.dist_plot(big_train_df)  "
   ]
  },
  {
   "cell_type": "code",
   "execution_count": null,
   "id": "db0c1b76",
   "metadata": {},
   "outputs": [],
   "source": []
  },
  {
   "cell_type": "code",
   "execution_count": null,
   "id": "9872cac0",
   "metadata": {},
   "outputs": [],
   "source": []
  },
  {
   "cell_type": "code",
   "execution_count": null,
   "id": "e912fa0a",
   "metadata": {},
   "outputs": [],
   "source": []
  },
  {
   "cell_type": "code",
   "execution_count": null,
   "id": "6f831a57",
   "metadata": {},
   "outputs": [],
   "source": []
  },
  {
   "cell_type": "code",
   "execution_count": null,
   "id": "e5bb763f",
   "metadata": {},
   "outputs": [],
   "source": []
  }
 ],
 "metadata": {
  "kernelspec": {
   "display_name": "Python 3 (ipykernel)",
   "language": "python",
   "name": "python3"
  },
  "language_info": {
   "codemirror_mode": {
    "name": "ipython",
    "version": 3
   },
   "file_extension": ".py",
   "mimetype": "text/x-python",
   "name": "python",
   "nbconvert_exporter": "python",
   "pygments_lexer": "ipython3",
   "version": "3.10.9"
  }
 },
 "nbformat": 4,
 "nbformat_minor": 5
}
