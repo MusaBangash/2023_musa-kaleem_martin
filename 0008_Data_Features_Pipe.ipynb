{
 "cells": [
  {
   "cell_type": "code",
   "execution_count": null,
   "id": "ada73a17",
   "metadata": {},
   "outputs": [],
   "source": []
  },
  {
   "cell_type": "code",
   "execution_count": 2,
   "id": "58cbbc63",
   "metadata": {},
   "outputs": [],
   "source": [
    "import sys\n",
    "import pandas as pd \n",
    "import numpy as np\n",
    "import matplotlib.pyplot as plt\n",
    "import seaborn as sns\n",
    "import os\n",
    "import glob\n",
    "%matplotlib inline"
   ]
  },
  {
   "cell_type": "code",
   "execution_count": null,
   "id": "dc5559e1",
   "metadata": {},
   "outputs": [],
   "source": []
  },
  {
   "cell_type": "code",
   "execution_count": 3,
   "id": "63494f26",
   "metadata": {},
   "outputs": [],
   "source": [
    "#parent_dir = os.path.abspath(r'D:')\n",
    "\n",
    "#for GitLab\n",
    "parent_dir = os.path.abspath(r'../data/')\n",
    "\n",
    "concatenated_yaws_dir = os.path.join(parent_dir, 'processed_data', 'Concatenated_Yaws')\n",
    "#inputoutput_dir = os.path.join(parent_dir, 'processed_data', 'InputOutput')\n",
    "output_dir = os.path.join(parent_dir, 'processed_data', 'ModelingData')\n"
   ]
  },
  {
   "cell_type": "code",
   "execution_count": null,
   "id": "a2b1477c",
   "metadata": {},
   "outputs": [],
   "source": []
  },
  {
   "cell_type": "markdown",
   "id": "b1ec0c3d",
   "metadata": {},
   "source": [
    "## Adding New Features/Lables"
   ]
  },
  {
   "cell_type": "code",
   "execution_count": null,
   "id": "24a9471b",
   "metadata": {},
   "outputs": [],
   "source": [
    "concatenated_yaws_dir = os.path.join(parent_dir, 'processed_data', 'Concatenated_Yaws')\n",
    "\n",
    "all_files = [file for file in os.listdir(concatenated_yaws_dir) if file.endswith('.csv')]\n",
    "\n",
    "if len(all_files) == 0:\n",
    "    print(\"No CSV files found in the directory.\")\n",
    "else:\n",
    "    for file in all_files:\n",
    "        file_path = os.path.join(concatenated_yaws_dir, file)\n",
    "\n",
    "        df = pd.read_csv(file_path)\n",
    "\n",
    "        if 'Turbulence' in df.columns:\n",
    "            print(\"Turbulence feature already added in\", file)\n",
    "        else:\n",
    "            df['Turbulence'] = df['wind_speed_std'] / df['wind_speed_mean']\n",
    "            df.to_csv(file_path, index=False)\n",
    "            print(\"Turbulence feature added to\", file)\n"
   ]
  },
  {
   "cell_type": "code",
   "execution_count": null,
   "id": "767d1ecb",
   "metadata": {},
   "outputs": [],
   "source": []
  },
  {
   "cell_type": "markdown",
   "id": "06cd5ccc",
   "metadata": {},
   "source": [
    "## List of all Yaws"
   ]
  },
  {
   "cell_type": "code",
   "execution_count": null,
   "id": "ab4080eb",
   "metadata": {},
   "outputs": [],
   "source": [
    "\n",
    "concatenated_yaws_dir = os.path.join(parent_dir, 'processed_data', 'Concatenated_Yaws')\n",
    "\n",
    "os.chdir(concatenated_yaws_dir) \n",
    "csv_files = glob.glob('*.csv')\n",
    "\n",
    "concatenated_dataframes = []  \n",
    "\n",
    "for csv_file in csv_files:\n",
    "    df = pd.read_csv(csv_file)\n",
    "    concatenated_dataframes.append(df)\n",
    "\n",
    "concatenated_df = pd.concat(concatenated_dataframes)\n",
    "\n",
    "print(concatenated_df)\n"
   ]
  },
  {
   "cell_type": "code",
   "execution_count": null,
   "id": "a27c618c",
   "metadata": {},
   "outputs": [],
   "source": []
  },
  {
   "cell_type": "markdown",
   "id": "39d15ec3",
   "metadata": {},
   "source": [
    "## Preaping data for model training and testing"
   ]
  },
  {
   "cell_type": "code",
   "execution_count": null,
   "id": "32118b01",
   "metadata": {},
   "outputs": [],
   "source": [
    "big_train_df = pd.DataFrame()\n",
    "big_test_df = pd.DataFrame()\n",
    "\n",
    "for df in concatenated_dataframes:\n",
    "    train_df = df.sample(frac=0.8, random_state=42)\n",
    "    test_df = df.drop(train_df.index)\n",
    "\n",
    "    big_train_df = pd.concat([big_train_df, train_df])\n",
    "    big_test_df = pd.concat([big_test_df, test_df])\n",
    "\n",
    "print(\"Big Training Dataset Shape:\", big_train_df.shape)\n",
    "print(\"Big Testing Dataset Shape:\", big_test_df.shape)"
   ]
  },
  {
   "cell_type": "code",
   "execution_count": null,
   "id": "978901dd",
   "metadata": {},
   "outputs": [],
   "source": []
  },
  {
   "cell_type": "markdown",
   "id": "9faaf966",
   "metadata": {},
   "source": [
    "## Exporting training and testing datasets"
   ]
  },
  {
   "cell_type": "code",
   "execution_count": null,
   "id": "251e53e2",
   "metadata": {},
   "outputs": [],
   "source": [
    "os.makedirs(output_dir, exist_ok=True)\n",
    "\n",
    "train_output_path = os.path.join(output_dir, 'big_train.parquet')\n",
    "test_output_path = os.path.join(output_dir, 'big_test.parquet')\n",
    "\n",
    "big_train_df.to_parquet(train_output_path)\n",
    "big_test_df.to_parquet(test_output_path)"
   ]
  },
  {
   "cell_type": "code",
   "execution_count": null,
   "id": "8a539b3c",
   "metadata": {},
   "outputs": [],
   "source": []
  },
  {
   "cell_type": "code",
   "execution_count": null,
   "id": "e05d5f37",
   "metadata": {},
   "outputs": [],
   "source": []
  }
 ],
 "metadata": {
  "kernelspec": {
   "display_name": "Python 3 (ipykernel)",
   "language": "python",
   "name": "python3"
  },
  "language_info": {
   "codemirror_mode": {
    "name": "ipython",
    "version": 3
   },
   "file_extension": ".py",
   "mimetype": "text/x-python",
   "name": "python",
   "nbconvert_exporter": "python",
   "pygments_lexer": "ipython3",
   "version": "3.10.9"
  }
 },
 "nbformat": 4,
 "nbformat_minor": 5
}
