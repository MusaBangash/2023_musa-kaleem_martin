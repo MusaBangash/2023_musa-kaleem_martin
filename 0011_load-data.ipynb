{
 "cells": [
  {
   "cell_type": "code",
   "execution_count": 3,
   "id": "367448b5-4556-45d6-b7f0-c386a4c2be95",
   "metadata": {},
   "outputs": [],
   "source": [
    "import sys\n",
    "import pandas as pd \n",
    "import numpy as np\n",
    "#np.set_printoptions(threshold=sys.maxsize)\n",
    "import matplotlib.pyplot as plt\n",
    "import seaborn as sns\n",
    "import os\n",
    "import glob\n",
    "import pathlib\n",
    "%matplotlib inline"
   ]
  },
  {
   "cell_type": "code",
   "execution_count": 13,
   "id": "2e3c64f1-2ed6-4a8e-bd5d-0203cfe5b77f",
   "metadata": {},
   "outputs": [],
   "source": []
  },
  {
   "cell_type": "code",
   "execution_count": 7,
   "id": "a55bcec0-cc1b-4d7a-8ba9-032bba3008cf",
   "metadata": {},
   "outputs": [
    {
     "name": "stdout",
     "output_type": "stream",
     "text": [
      "CPU times: user 17 µs, sys: 0 ns, total: 17 µs\n",
      "Wall time: 18.1 µs\n"
     ]
    }
   ],
   "source": [
    "%%time\n",
    "data_dir = '../data/raw/Yaw-01/'\n",
    "data_path = pathlib.Path(data_dir)"
   ]
  },
  {
   "cell_type": "code",
   "execution_count": 14,
   "id": "432ec184-94dc-490e-b24f-4097bf53b166",
   "metadata": {},
   "outputs": [
    {
     "name": "stdout",
     "output_type": "stream",
     "text": [
      "../data/raw/Yaw-01/0001.int\n",
      "../data/raw/Yaw-01/0002.int\n",
      "../data/raw/Yaw-01/0003.int\n",
      "../data/raw/Yaw-01/0004.int\n",
      "../data/raw/Yaw-01/0005.int\n"
     ]
    }
   ],
   "source": [
    "for f in data_path.glob(\"*int\"):  \n",
    "    print(f)\n",
    "    "
   ]
  },
  {
   "cell_type": "code",
   "execution_count": 21,
   "id": "b4c68ffd-5376-48b1-a3d1-d69e0cd316b1",
   "metadata": {},
   "outputs": [],
   "source": [
    "sensor = (1,4,5,6,7,8,9,10,11,12,53,54,56,57,59,60,61,62,63,64)\n",
    "\n",
    "\n",
    "def read_int(FileName, x):\n",
    "\n",
    "    #print(FileName)\n",
    "\n",
    "    xlen = len(FileName)\n",
    "    ending = FileName[xlen-4:xlen]\n",
    "\n",
    "    if ending=='.int':\n",
    "        FileName = FileName[0:xlen-4]\n",
    "\n",
    "    with open(FileName+ending,\"rb\") as f:\n",
    "        f.read()\n",
    "        filesize = f.tell()\n",
    "    f.close()\n",
    "\n",
    "    with open(FileName+ending,\"rb\") as f:\n",
    "\n",
    "    # the first 4 junk buffer\n",
    "\n",
    "        leer = np.frombuffer(f.read(4),dtype=np.single)\n",
    "        print(leer)\n",
    "    # the  24 buffer give information about file\n",
    "        datei = np.frombuffer(f.read(24),dtype=np.uint32)\n",
    "        print(datei)\n",
    "\n",
    "        f.seek(76)\n",
    "    # read the number of sensor in file \n",
    "        lvek = np.frombuffer(f.read(4),dtype=np.uint32)\n",
    "        print(lvek)\n",
    "     \n",
    "    # then 4 times the number of sensors are skipped to read a control parameter:\n",
    "  \n",
    "        f.seek(84+lvek[0]*4)\n",
    "\n",
    "        filetype = np.frombuffer(f.read(4),dtype=np.uint)\n",
    "        print(filetype)\n",
    "\n",
    "        if filetype != 12:\n",
    "\n",
    "    # start time is read (is not equal to 0 as we have been cut off from the simulation for the first 50 s\n",
    "            t0 = np.frombuffer(f.read(4),dtype=np.single)\n",
    "            #print(t0)\n",
    "\n",
    "    # comes the parameter for the step size of the simulation\n",
    "\n",
    "            dt = np.frombuffer(f.read(4),dtype=np.single)\n",
    "            #print(dt)\n",
    "\n",
    "            pos_fak = f.tell()\n",
    "            #print(pos_fak)\n",
    "\n",
    "            fak = []\n",
    " \n",
    "            for n in x:\n",
    "                f.seek(pos_fak + 4*(n-1))\n",
    "                fak.append(np.frombuffer(f.read(4),dtype=np.single))\n",
    "                \n",
    "            f.seek(pos_fak+lvek[0]*4)\n",
    "            position = f.tell()\n",
    "    # the length of the sensors is calculated:\n",
    "            RecordCount = round((filesize-position)/lvek[0]/2)\n",
    "            #print(RecordCount)\n",
    "\n",
    "            raw_ts_int = np.empty([len(x),RecordCount])\n",
    "           # print(raw_ts_int)\n",
    "        \n",
    "            #print(\"Type:\",type(raw_ts_int))\n",
    "            #print(raw_ts_int.shape)\n",
    "\n",
    "            for n in range(RecordCount):\n",
    "\n",
    "                for m, sensor_ in enumerate(x):\n",
    "\n",
    "                    f.seek(position+2*sensor_+(lvek[0]*2)*n-2)\n",
    "                    raw_ts_int[m,n] = np.frombuffer(f.read(2),dtype=np.int16)*fak[m]\n",
    "\n",
    "            global   df\n",
    "            df = pd.DataFrame(raw_ts_int)\n",
    "\n",
    "            #print(df.transpose())\n",
    "            #merged_df=df.merge(df)\n",
    "                    \n",
    "    f.close()"
   ]
  },
  {
   "cell_type": "code",
   "execution_count": 22,
   "id": "5f4e7c8b-9937-4699-9b51-d58fc1a8b8fb",
   "metadata": {},
   "outputs": [
    {
     "name": "stdout",
     "output_type": "stream",
     "text": [
      "[1.01e-43]\n",
      "[   8   14 2022   15   27    1]\n",
      "[65]\n"
     ]
    },
    {
     "ename": "ValueError",
     "evalue": "buffer size must be a multiple of element size",
     "output_type": "error",
     "traceback": [
      "\u001b[0;31m---------------------------------------------------------------------------\u001b[0m",
      "\u001b[0;31mValueError\u001b[0m                                Traceback (most recent call last)",
      "Cell \u001b[0;32mIn[22], line 1\u001b[0m\n\u001b[0;32m----> 1\u001b[0m \u001b[43mread_int\u001b[49m\u001b[43m(\u001b[49m\u001b[38;5;28;43mstr\u001b[39;49m\u001b[43m(\u001b[49m\u001b[43mdata_path\u001b[49m\u001b[43m \u001b[49m\u001b[38;5;241;43m/\u001b[39;49m\u001b[43m \u001b[49m\u001b[38;5;124;43m'\u001b[39;49m\u001b[38;5;124;43m0001.int\u001b[39;49m\u001b[38;5;124;43m'\u001b[39;49m\u001b[43m)\u001b[49m\u001b[43m,\u001b[49m\u001b[43msensor\u001b[49m\u001b[43m)\u001b[49m\n",
      "Cell \u001b[0;32mIn[21], line 38\u001b[0m, in \u001b[0;36mread_int\u001b[0;34m(FileName, x)\u001b[0m\n\u001b[1;32m     34\u001b[0m \u001b[38;5;66;03m# then 4 times the number of sensors are skipped to read a control parameter:\u001b[39;00m\n\u001b[1;32m     36\u001b[0m     f\u001b[38;5;241m.\u001b[39mseek(\u001b[38;5;241m84\u001b[39m\u001b[38;5;241m+\u001b[39mlvek[\u001b[38;5;241m0\u001b[39m]\u001b[38;5;241m*\u001b[39m\u001b[38;5;241m4\u001b[39m)\n\u001b[0;32m---> 38\u001b[0m     filetype \u001b[38;5;241m=\u001b[39m \u001b[43mnp\u001b[49m\u001b[38;5;241;43m.\u001b[39;49m\u001b[43mfrombuffer\u001b[49m\u001b[43m(\u001b[49m\u001b[43mf\u001b[49m\u001b[38;5;241;43m.\u001b[39;49m\u001b[43mread\u001b[49m\u001b[43m(\u001b[49m\u001b[38;5;241;43m4\u001b[39;49m\u001b[43m)\u001b[49m\u001b[43m,\u001b[49m\u001b[43mdtype\u001b[49m\u001b[38;5;241;43m=\u001b[39;49m\u001b[43mnp\u001b[49m\u001b[38;5;241;43m.\u001b[39;49m\u001b[43muint\u001b[49m\u001b[43m)\u001b[49m\n\u001b[1;32m     39\u001b[0m     \u001b[38;5;28mprint\u001b[39m(filetype)\n\u001b[1;32m     41\u001b[0m     \u001b[38;5;28;01mif\u001b[39;00m filetype \u001b[38;5;241m!=\u001b[39m \u001b[38;5;241m12\u001b[39m:\n\u001b[1;32m     42\u001b[0m \n\u001b[1;32m     43\u001b[0m \u001b[38;5;66;03m# start time is read (is not equal to 0 as we have been cut off from the simulation for the first 50 s\u001b[39;00m\n",
      "\u001b[0;31mValueError\u001b[0m: buffer size must be a multiple of element size"
     ]
    }
   ],
   "source": [
    "read_int(str(data_path / '0001.int'),sensor)"
   ]
  },
  {
   "cell_type": "code",
   "execution_count": null,
   "id": "fd1626ef-f864-4f97-95f0-a83d9fe03168",
   "metadata": {},
   "outputs": [],
   "source": []
  }
 ],
 "metadata": {
  "kernelspec": {
   "display_name": "students_2023-musa-kaleem",
   "language": "python",
   "name": "students_2023-musa-kaleem"
  },
  "language_info": {
   "codemirror_mode": {
    "name": "ipython",
    "version": 3
   },
   "file_extension": ".py",
   "mimetype": "text/x-python",
   "name": "python",
   "nbconvert_exporter": "python",
   "pygments_lexer": "ipython3",
   "version": "3.10.9"
  }
 },
 "nbformat": 4,
 "nbformat_minor": 5
}
